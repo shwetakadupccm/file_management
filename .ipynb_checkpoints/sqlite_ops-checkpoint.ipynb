{
 "cells": [
  {
   "cell_type": "code",
   "execution_count": 2,
   "metadata": {},
   "outputs": [],
   "source": [
    "import os\n",
    "import sqlite3\n",
    "import pandas as pd"
   ]
  },
  {
   "cell_type": "code",
   "execution_count": 15,
   "metadata": {},
   "outputs": [],
   "source": [
    "folder = 'D:/Shweta/pccm_db'\n",
    "file1 = 'PCCM_BreastCancerDB_2021_02_22.db'\n",
    "file2 = 'PCCM_BreastCancerDB_2021_03_13.db'\n",
    "path_db1 = os.path.join(folder, file1)\n",
    "path_db2 = os.path.join(folder, file2)"
   ]
  },
  {
   "cell_type": "code",
   "execution_count": 20,
   "metadata": {},
   "outputs": [],
   "source": [
    "conn1 = sqlite3.connect(path_db1)\n",
    "cursor1 = conn1.cursor()"
   ]
  },
  {
   "cell_type": "code",
   "execution_count": 21,
   "metadata": {},
   "outputs": [
    {
     "data": {
      "text/html": [
       "<div>\n",
       "<style scoped>\n",
       "    .dataframe tbody tr th:only-of-type {\n",
       "        vertical-align: middle;\n",
       "    }\n",
       "\n",
       "    .dataframe tbody tr th {\n",
       "        vertical-align: top;\n",
       "    }\n",
       "\n",
       "    .dataframe thead th {\n",
       "        text-align: right;\n",
       "    }\n",
       "</style>\n",
       "<table border=\"1\" class=\"dataframe\">\n",
       "  <thead>\n",
       "    <tr style=\"text-align: right;\">\n",
       "      <th></th>\n",
       "      <th>type</th>\n",
       "      <th>name</th>\n",
       "      <th>tbl_name</th>\n",
       "      <th>rootpage</th>\n",
       "      <th>sql</th>\n",
       "    </tr>\n",
       "  </thead>\n",
       "  <tbody>\n",
       "    <tr>\n",
       "      <th>0</th>\n",
       "      <td>table</td>\n",
       "      <td>patient_information_history</td>\n",
       "      <td>patient_information_history</td>\n",
       "      <td>2</td>\n",
       "      <td>CREATE TABLE patient_information_history(file_...</td>\n",
       "    </tr>\n",
       "    <tr>\n",
       "      <th>1</th>\n",
       "      <td>table</td>\n",
       "      <td>biopsy_path_report_data</td>\n",
       "      <td>biopsy_path_report_data</td>\n",
       "      <td>3</td>\n",
       "      <td>CREATE TABLE biopsy_path_report_data(pk, file_...</td>\n",
       "    </tr>\n",
       "    <tr>\n",
       "      <th>2</th>\n",
       "      <td>table</td>\n",
       "      <td>surgery_path_report_data</td>\n",
       "      <td>surgery_path_report_data</td>\n",
       "      <td>4</td>\n",
       "      <td>CREATE TABLE surgery_path_report_data(fk, file...</td>\n",
       "    </tr>\n",
       "    <tr>\n",
       "      <th>3</th>\n",
       "      <td>table</td>\n",
       "      <td>block_data</td>\n",
       "      <td>block_data</td>\n",
       "      <td>7</td>\n",
       "      <td>CREATE TABLE block_data(fk, file_number, block...</td>\n",
       "    </tr>\n",
       "    <tr>\n",
       "      <th>4</th>\n",
       "      <td>table</td>\n",
       "      <td>radiology</td>\n",
       "      <td>radiology</td>\n",
       "      <td>8</td>\n",
       "      <td>CREATE TABLE radiology(file_number, mammograph...</td>\n",
       "    </tr>\n",
       "  </tbody>\n",
       "</table>\n",
       "</div>"
      ],
      "text/plain": [
       "    type                         name                     tbl_name  rootpage  \\\n",
       "0  table  patient_information_history  patient_information_history         2   \n",
       "1  table      biopsy_path_report_data      biopsy_path_report_data         3   \n",
       "2  table     surgery_path_report_data     surgery_path_report_data         4   \n",
       "3  table                   block_data                   block_data         7   \n",
       "4  table                    radiology                    radiology         8   \n",
       "\n",
       "                                                 sql  \n",
       "0  CREATE TABLE patient_information_history(file_...  \n",
       "1  CREATE TABLE biopsy_path_report_data(pk, file_...  \n",
       "2  CREATE TABLE surgery_path_report_data(fk, file...  \n",
       "3  CREATE TABLE block_data(fk, file_number, block...  \n",
       "4  CREATE TABLE radiology(file_number, mammograph...  "
      ]
     },
     "execution_count": 21,
     "metadata": {},
     "output_type": "execute_result"
    }
   ],
   "source": [
    "sql_stat = \"SELECT * FROM sqlite_master WHERE TYPE = 'table'\"\n",
    "tables = cursor1.execute(sql_stat)\n",
    "tables = pd.read_sql(sql_stat, conn1)\n",
    "tables.head()"
   ]
  },
  {
   "cell_type": "code",
   "execution_count": 22,
   "metadata": {},
   "outputs": [
    {
     "data": {
      "text/plain": [
       "'CREATE TABLE patient_information_history(file_number, mr_number, name, aadhaar_card, firstvisit_date, permanent_address, current_address, phone, email_id, gender, age_at_first_visit_yrs, diagnosis_age_yrs, date_of_birth, place_birth, height_cm, weight_kg, bmi, physical_activity_y_n, type_physical_activity, frequency_physical_activity, diet, alcohol_y_n, alcohol_consumption_age_yrs, quantity_alcohol_per_week, duration_alcohol, comments_alcohol, tobacco_y_n, exposure_mode, type_passive, type_tobacco, tobacco_consumption_age_yrs, tobacco_frequency, quantity_tobacco_per_week, duration_tobacco, comments_tobacco, other_deleterious_habits, nutritional_supplements_y_n, type_nutritional_supplements, quantity_nutritional_supplements, duration_nutritional_supplements, marital_status, siblings, sisters, brothers, children, daughters, sons, menarche_yrs, menopause_status, age_at_menopause_yrs, date_last_menstrual_period, period_type, number_pregnancies, pregnancy_to_term, number_abortions, age_first_child, age_first_pregnancy, age_last_child, age_last_pregnancy, two_births_in_year, breast_feeding, child_breast_feeding, duration_breast_feeding, breast_usage_breast_feeding, fertility_treatment_y_n, type_fertility_treatment, details_fertility_treatment, cycles_fertility_treatment, success_fertility_treatment, type_birth_control_used, details_birth_control, duration_birth_control, any_other_medical_history_y_n, type_any_other_medical_history, diagnosis_date_any_other_medical_history, treatment_any_other_medical_history, previous_cancer_history_y_n, type_previous_cancer, year_diagnosed_previous_cancer, treatment_previous_cancer, treatment_type_previous_cancer, treatment_duration_previous_cancer, familycancer_history_y_n, type_degreerelation_typerelation_age_familycancer, current_breast_cancer_detected_by, current_breast_cancer_detected_date, rb_symptoms, rb_symptoms_duration, lb_symptoms, lb_symptoms_duration, rb_other_symptoms, rb_other_symptoms_duration, lb_other_symptoms, lb_other_symptoms_duration, patient_metastasis_symptoms, usg_abdomen, diagnosis_usg_abdomen, details_diagnosis_usg_abdomen, cect_abd_thorax, visceral_metastasis_cect_abd_thorax, details_visceral_metastasis_cect_abd_thorax, pet_scan, visceral_metastasis_pet_scan, detail_visceral_metastasis_pet_scan, skeletal_metastasis_pet_scan, detail_skeletal_metastasis_pet_scan, bone_scan, skeletal_metastasis_bone_scan, detail_skeletal_metastasis_bone_scan, update_by, last_update)'"
      ]
     },
     "execution_count": 22,
     "metadata": {},
     "output_type": "execute_result"
    }
   ],
   "source": [
    "tables.iloc[0][4] "
   ]
  },
  {
   "cell_type": "code",
   "execution_count": 23,
   "metadata": {},
   "outputs": [
    {
     "data": {
      "text/html": [
       "<div>\n",
       "<style scoped>\n",
       "    .dataframe tbody tr th:only-of-type {\n",
       "        vertical-align: middle;\n",
       "    }\n",
       "\n",
       "    .dataframe tbody tr th {\n",
       "        vertical-align: top;\n",
       "    }\n",
       "\n",
       "    .dataframe thead th {\n",
       "        text-align: right;\n",
       "    }\n",
       "</style>\n",
       "<table border=\"1\" class=\"dataframe\">\n",
       "  <thead>\n",
       "    <tr style=\"text-align: right;\">\n",
       "      <th></th>\n",
       "      <th>fk</th>\n",
       "      <th>file_number</th>\n",
       "      <th>block_id</th>\n",
       "      <th>block_reference</th>\n",
       "      <th>block_type</th>\n",
       "      <th>block_description</th>\n",
       "      <th>update_by</th>\n",
       "      <th>last_update</th>\n",
       "    </tr>\n",
       "  </thead>\n",
       "  <tbody>\n",
       "  </tbody>\n",
       "</table>\n",
       "</div>"
      ],
      "text/plain": [
       "Empty DataFrame\n",
       "Columns: [fk, file_number, block_id, block_reference, block_type, block_description, update_by, last_update]\n",
       "Index: []"
      ]
     },
     "execution_count": 23,
     "metadata": {},
     "output_type": "execute_result"
    }
   ],
   "source": [
    "block_sql_stat = \"SELECT * FROM block_data\"\n",
    "block_data = cursor.execute(block_sql_stat)\n",
    "block_data = pd.read_sql(block_sql_stat, conn)\n",
    "block_data"
   ]
  },
  {
   "cell_type": "code",
   "execution_count": 24,
   "metadata": {},
   "outputs": [],
   "source": [
    "conn2 = sqlite3.connect(path_db2)\n",
    "cursor2 = conn2.cursor()"
   ]
  },
  {
   "cell_type": "code",
   "execution_count": 25,
   "metadata": {},
   "outputs": [
    {
     "data": {
      "text/html": [
       "<div>\n",
       "<style scoped>\n",
       "    .dataframe tbody tr th:only-of-type {\n",
       "        vertical-align: middle;\n",
       "    }\n",
       "\n",
       "    .dataframe tbody tr th {\n",
       "        vertical-align: top;\n",
       "    }\n",
       "\n",
       "    .dataframe thead th {\n",
       "        text-align: right;\n",
       "    }\n",
       "</style>\n",
       "<table border=\"1\" class=\"dataframe\">\n",
       "  <thead>\n",
       "    <tr style=\"text-align: right;\">\n",
       "      <th></th>\n",
       "      <th>type</th>\n",
       "      <th>name</th>\n",
       "      <th>tbl_name</th>\n",
       "      <th>rootpage</th>\n",
       "      <th>sql</th>\n",
       "    </tr>\n",
       "  </thead>\n",
       "  <tbody>\n",
       "    <tr>\n",
       "      <th>0</th>\n",
       "      <td>table</td>\n",
       "      <td>patient_information_history</td>\n",
       "      <td>patient_information_history</td>\n",
       "      <td>2</td>\n",
       "      <td>CREATE TABLE patient_information_history(file_...</td>\n",
       "    </tr>\n",
       "    <tr>\n",
       "      <th>1</th>\n",
       "      <td>table</td>\n",
       "      <td>biopsy_path_report_data</td>\n",
       "      <td>biopsy_path_report_data</td>\n",
       "      <td>3</td>\n",
       "      <td>CREATE TABLE biopsy_path_report_data(pk, file_...</td>\n",
       "    </tr>\n",
       "    <tr>\n",
       "      <th>2</th>\n",
       "      <td>table</td>\n",
       "      <td>surgery_path_report_data</td>\n",
       "      <td>surgery_path_report_data</td>\n",
       "      <td>4</td>\n",
       "      <td>CREATE TABLE surgery_path_report_data(fk, file...</td>\n",
       "    </tr>\n",
       "    <tr>\n",
       "      <th>3</th>\n",
       "      <td>table</td>\n",
       "      <td>block_data</td>\n",
       "      <td>block_data</td>\n",
       "      <td>7</td>\n",
       "      <td>CREATE TABLE block_data(fk, file_number, block...</td>\n",
       "    </tr>\n",
       "    <tr>\n",
       "      <th>4</th>\n",
       "      <td>table</td>\n",
       "      <td>radiology</td>\n",
       "      <td>radiology</td>\n",
       "      <td>8</td>\n",
       "      <td>CREATE TABLE radiology(file_number, mammograph...</td>\n",
       "    </tr>\n",
       "  </tbody>\n",
       "</table>\n",
       "</div>"
      ],
      "text/plain": [
       "    type                         name                     tbl_name  rootpage  \\\n",
       "0  table  patient_information_history  patient_information_history         2   \n",
       "1  table      biopsy_path_report_data      biopsy_path_report_data         3   \n",
       "2  table     surgery_path_report_data     surgery_path_report_data         4   \n",
       "3  table                   block_data                   block_data         7   \n",
       "4  table                    radiology                    radiology         8   \n",
       "\n",
       "                                                 sql  \n",
       "0  CREATE TABLE patient_information_history(file_...  \n",
       "1  CREATE TABLE biopsy_path_report_data(pk, file_...  \n",
       "2  CREATE TABLE surgery_path_report_data(fk, file...  \n",
       "3  CREATE TABLE block_data(fk, file_number, block...  \n",
       "4  CREATE TABLE radiology(file_number, mammograph...  "
      ]
     },
     "execution_count": 25,
     "metadata": {},
     "output_type": "execute_result"
    }
   ],
   "source": [
    "sql_stat = \"SELECT * FROM sqlite_master WHERE TYPE = 'table'\"\n",
    "tables = cursor2.execute(sql_stat)\n",
    "tables = pd.read_sql(sql_stat, conn2)\n",
    "tables.head()"
   ]
  },
  {
   "cell_type": "code",
   "execution_count": null,
   "metadata": {},
   "outputs": [],
   "source": []
  }
 ],
 "metadata": {
  "kernelspec": {
   "display_name": "Python 3",
   "language": "python",
   "name": "python3"
  },
  "language_info": {
   "codemirror_mode": {
    "name": "ipython",
    "version": 3
   },
   "file_extension": ".py",
   "mimetype": "text/x-python",
   "name": "python",
   "nbconvert_exporter": "python",
   "pygments_lexer": "ipython3",
   "version": "3.8.5"
  }
 },
 "nbformat": 4,
 "nbformat_minor": 1
}
