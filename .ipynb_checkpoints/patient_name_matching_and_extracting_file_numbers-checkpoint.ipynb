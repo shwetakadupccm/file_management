{
 "cells": [
  {
   "cell_type": "code",
   "execution_count": 2,
   "metadata": {
    "pycharm": {
     "is_executing": true
    }
   },
   "outputs": [],
   "source": [
    "import pandas as pd\n",
    "import re\n",
    "import os\n",
    "from fuzzywuzzy import process\n",
    "from fuzzywuzzy import fuzz\n",
    "import numpy as np"
   ]
  },
  {
   "cell_type": "code",
   "execution_count": 3,
   "metadata": {},
   "outputs": [],
   "source": [
    "def clean_names(df, name_str):\n",
    "    cleaned_names = []\n",
    "    for name in df[name_str]:\n",
    "        name = re.sub('[^a-zA-Z]', ' ', str(name))\n",
    "        name = name.lower()\n",
    "        cleaned_names.append(name)\n",
    "    return cleaned_names"
   ]
  },
  {
   "cell_type": "code",
   "execution_count": 14,
   "metadata": {},
   "outputs": [],
   "source": [
    "def find_matched_name_file_num(source_file, test_file, source_name_str='patient_name', test_name_str='Patient Name',\n",
    "                      source_file_str='file_number', test_file_str='File_Number'):\n",
    "    clean_source = 'clean_' + source_name_str\n",
    "    clean_test = 'clean_' + test_name_str\n",
    "    source_clean_names = clean_names(source_file, source_name_str)\n",
    "    source_file[clean_source] = source_clean_names\n",
    "    test_clean_names = clean_names(test_file, test_name_str)\n",
    "    test_file[clean_test] = test_clean_names\n",
    "    matched_list = []\n",
    "\n",
    "    for test_index, test_clean_name in enumerate(test_clean_names):\n",
    "        matched_name = process.extractOne(query=test_clean_name, choices=source_clean_names, \n",
    "                                          scorer = fuzz.token_set_ratio)\n",
    "        if matched_name is not None:\n",
    "            test_cols = [test_name_str, test_file_str, clean_test]\n",
    "            source_col = [source_name_str, source_file_str, clean_source]\n",
    "            source_index = source_clean_names.index(matched_name[0])\n",
    "            test_dat = test_file.iloc[test_index][test_cols]\n",
    "            source_dat = source_file.iloc[source_index][source_col]\n",
    "            score = matched_name[1]\n",
    "            output_list = np.append(test_dat, source_dat)\n",
    "            final_output_list = np.append(output_list, score)\n",
    "            matched_list.append(final_output_list)\n",
    "            col_list = ['test_'+test_name_str, 'test_'+test_file_str, 'clean_test',  'source_'+source_name_str,\n",
    "                        'source_'+source_file_str, 'clean_source', 'matched_score']\n",
    "            matched_df = pd.DataFrame(matched_list, columns=col_list)\n",
    "            matched_df['comparison'] = np.where(matched_df['test_' + test_file_str] == matched_df['source_' + source_file_str],\n",
    "                True, False)\n",
    "    return matched_df, source_clean_names, test_clean_names"
   ]
  },
  {
   "cell_type": "code",
   "execution_count": 15,
   "metadata": {},
   "outputs": [
    {
     "name": "stderr",
     "output_type": "stream",
     "text": [
      "D:\\miniconda3\\envs\\map_var\\lib\\site-packages\\openpyxl\\worksheet\\_reader.py:207: UserWarning: Cell AF80 is marked as a date but the serial value 170051448 is outside the limits for dates. The cell will be treated as an error.\n",
      "  warn(msg)\n",
      "D:\\miniconda3\\envs\\map_var\\lib\\site-packages\\openpyxl\\worksheet\\_reader.py:207: UserWarning: Cell AF83 is marked as a date but the serial value 170069196 is outside the limits for dates. The cell will be treated as an error.\n",
      "  warn(msg)\n",
      "D:\\miniconda3\\envs\\map_var\\lib\\site-packages\\openpyxl\\worksheet\\_reader.py:207: UserWarning: Cell DF96 is marked as a date but the serial value 150110913 is outside the limits for dates. The cell will be treated as an error.\n",
      "  warn(msg)\n",
      "D:\\miniconda3\\envs\\map_var\\lib\\site-packages\\openpyxl\\worksheet\\_reader.py:207: UserWarning: Cell AF112 is marked as a date but the serial value 160009115 is outside the limits for dates. The cell will be treated as an error.\n",
      "  warn(msg)\n",
      "D:\\miniconda3\\envs\\map_var\\lib\\site-packages\\openpyxl\\worksheet\\_reader.py:207: UserWarning: Cell DF112 is marked as a date but the serial value 160015902 is outside the limits for dates. The cell will be treated as an error.\n",
      "  warn(msg)\n",
      "D:\\miniconda3\\envs\\map_var\\lib\\site-packages\\openpyxl\\worksheet\\_reader.py:207: UserWarning: Cell AF134 is marked as a date but the serial value 160182838 is outside the limits for dates. The cell will be treated as an error.\n",
      "  warn(msg)\n",
      "D:\\miniconda3\\envs\\map_var\\lib\\site-packages\\openpyxl\\worksheet\\_reader.py:207: UserWarning: Cell AF421 is marked as a date but the serial value 170208492 is outside the limits for dates. The cell will be treated as an error.\n",
      "  warn(msg)\n",
      "D:\\miniconda3\\envs\\map_var\\lib\\site-packages\\openpyxl\\worksheet\\_reader.py:207: UserWarning: Cell AF502 is marked as a date but the serial value 170069194 is outside the limits for dates. The cell will be treated as an error.\n",
      "  warn(msg)\n",
      "D:\\miniconda3\\envs\\map_var\\lib\\site-packages\\openpyxl\\worksheet\\_reader.py:207: UserWarning: Cell AF505 is marked as a date but the serial value 300113070 is outside the limits for dates. The cell will be treated as an error.\n",
      "  warn(msg)\n",
      "D:\\miniconda3\\envs\\map_var\\lib\\site-packages\\openpyxl\\worksheet\\_reader.py:207: UserWarning: Cell AF545 is marked as a date but the serial value 27817118 is outside the limits for dates. The cell will be treated as an error.\n",
      "  warn(msg)\n",
      "D:\\miniconda3\\envs\\map_var\\lib\\site-packages\\openpyxl\\worksheet\\_reader.py:207: UserWarning: Cell BP670 is marked as a date but the serial value 180083797 is outside the limits for dates. The cell will be treated as an error.\n",
      "  warn(msg)\n",
      "D:\\miniconda3\\envs\\map_var\\lib\\site-packages\\openpyxl\\worksheet\\_reader.py:207: UserWarning: Cell CK672 is marked as a date but the serial value 180084688 is outside the limits for dates. The cell will be treated as an error.\n",
      "  warn(msg)\n"
     ]
    }
   ],
   "source": [
    "source_file_name = \"2010_2018_name_file_number_whole.xlsx\"\n",
    "test_file_name = \"2021_01_25_PCCM_FFPE_blocks_1_672_RB.xlsx\"\n",
    "folder = 'D:\\\\Shweta\\\\Patient_name_matching'\n",
    "source_path = os.path.join(folder, source_file_name)\n",
    "test_path = os.path.join(folder, test_file_name)\n",
    "source_file = pd.read_excel(source_path)\n",
    "test_file = pd.read_excel(test_path)"
   ]
  },
  {
   "cell_type": "code",
   "execution_count": 16,
   "metadata": {},
   "outputs": [
    {
     "data": {
      "text/html": [
       "<div>\n",
       "<style scoped>\n",
       "    .dataframe tbody tr th:only-of-type {\n",
       "        vertical-align: middle;\n",
       "    }\n",
       "\n",
       "    .dataframe tbody tr th {\n",
       "        vertical-align: top;\n",
       "    }\n",
       "\n",
       "    .dataframe thead th {\n",
       "        text-align: right;\n",
       "    }\n",
       "</style>\n",
       "<table border=\"1\" class=\"dataframe\">\n",
       "  <thead>\n",
       "    <tr style=\"text-align: right;\">\n",
       "      <th></th>\n",
       "      <th>test_Patient Name</th>\n",
       "      <th>test_File_Number</th>\n",
       "      <th>clean_test</th>\n",
       "      <th>source_patient_name</th>\n",
       "      <th>source_file_number</th>\n",
       "      <th>clean_source</th>\n",
       "      <th>matched_score</th>\n",
       "      <th>comparison</th>\n",
       "    </tr>\n",
       "  </thead>\n",
       "  <tbody>\n",
       "    <tr>\n",
       "      <th>0</th>\n",
       "      <td>Shubhada Bodas</td>\n",
       "      <td>264/12</td>\n",
       "      <td>shubhada bodas</td>\n",
       "      <td>Shubhada Bodas</td>\n",
       "      <td>264/12</td>\n",
       "      <td>shubhada bodas</td>\n",
       "      <td>100</td>\n",
       "      <td>True</td>\n",
       "    </tr>\n",
       "    <tr>\n",
       "      <th>1</th>\n",
       "      <td>Vidya Dixit</td>\n",
       "      <td>518/16</td>\n",
       "      <td>vidya dixit</td>\n",
       "      <td>dixit vidya</td>\n",
       "      <td>518/16</td>\n",
       "      <td>dixit vidya</td>\n",
       "      <td>100</td>\n",
       "      <td>True</td>\n",
       "    </tr>\n",
       "    <tr>\n",
       "      <th>2</th>\n",
       "      <td>Vidya Dixit</td>\n",
       "      <td>518/16</td>\n",
       "      <td>vidya dixit</td>\n",
       "      <td>dixit vidya</td>\n",
       "      <td>518/16</td>\n",
       "      <td>dixit vidya</td>\n",
       "      <td>100</td>\n",
       "      <td>True</td>\n",
       "    </tr>\n",
       "    <tr>\n",
       "      <th>3</th>\n",
       "      <td>Ashitha Michael</td>\n",
       "      <td>201/17</td>\n",
       "      <td>ashitha michael</td>\n",
       "      <td>ASHITHA ROBERT MICHAEL</td>\n",
       "      <td>201/17</td>\n",
       "      <td>ashitha robert michael</td>\n",
       "      <td>100</td>\n",
       "      <td>True</td>\n",
       "    </tr>\n",
       "    <tr>\n",
       "      <th>4</th>\n",
       "      <td>Neelu Ramchandani</td>\n",
       "      <td>555/16</td>\n",
       "      <td>neelu ramchandani</td>\n",
       "      <td>ramchandani neelu</td>\n",
       "      <td>555/16</td>\n",
       "      <td>ramchandani neelu</td>\n",
       "      <td>100</td>\n",
       "      <td>True</td>\n",
       "    </tr>\n",
       "  </tbody>\n",
       "</table>\n",
       "</div>"
      ],
      "text/plain": [
       "   test_Patient Name test_File_Number         clean_test  \\\n",
       "0     Shubhada Bodas           264/12     shubhada bodas   \n",
       "1        Vidya Dixit           518/16        vidya dixit   \n",
       "2        Vidya Dixit           518/16        vidya dixit   \n",
       "3    Ashitha Michael           201/17    ashitha michael   \n",
       "4  Neelu Ramchandani           555/16  neelu ramchandani   \n",
       "\n",
       "      source_patient_name source_file_number            clean_source  \\\n",
       "0          Shubhada Bodas             264/12          shubhada bodas   \n",
       "1             dixit vidya             518/16             dixit vidya   \n",
       "2             dixit vidya             518/16             dixit vidya   \n",
       "3  ASHITHA ROBERT MICHAEL             201/17  ashitha robert michael   \n",
       "4       ramchandani neelu             555/16       ramchandani neelu   \n",
       "\n",
       "   matched_score  comparison  \n",
       "0            100        True  \n",
       "1            100        True  \n",
       "2            100        True  \n",
       "3            100        True  \n",
       "4            100        True  "
      ]
     },
     "execution_count": 16,
     "metadata": {},
     "output_type": "execute_result"
    }
   ],
   "source": [
    "matched_names, source_clean_names, test_clean_names =find_matched_name_file_num(source_file, test_file, source_name_str='patient_name',\n",
    "                  test_name_str='Patient Name', source_file_str='file_number', test_file_str='File_Number')\n",
    "\n",
    "matched_names.head()"
   ]
  },
  {
   "cell_type": "code",
   "execution_count": 17,
   "metadata": {},
   "outputs": [
    {
     "data": {
      "text/plain": [
       "['anantakrishnan lubna',\n",
       " 'asha agarwal',\n",
       " 'neha agarwal         ',\n",
       " 'arora m sudhir',\n",
       " 'ahir dhirkumar rupchand',\n",
       " 'aragkar rahul',\n",
       " 'belekar sudamati',\n",
       " 'kadam rashmi',\n",
       " 'charan hanumant bhandari',\n",
       " 'bhachandrani sonam']"
      ]
     },
     "execution_count": 17,
     "metadata": {},
     "output_type": "execute_result"
    }
   ],
   "source": [
    "source_clean_names[0:10]"
   ]
  },
  {
   "cell_type": "code",
   "execution_count": 18,
   "metadata": {},
   "outputs": [
    {
     "data": {
      "text/plain": [
       "['shubhada bodas',\n",
       " 'vidya dixit',\n",
       " 'vidya dixit',\n",
       " 'ashitha michael',\n",
       " 'neelu ramchandani',\n",
       " 'neelu ramchandani',\n",
       " 'alpana bose',\n",
       " 'isabella gupta',\n",
       " 'indira nair ',\n",
       " 'satwasheila thorat']"
      ]
     },
     "execution_count": 18,
     "metadata": {},
     "output_type": "execute_result"
    }
   ],
   "source": [
    "test_clean_names[0:10]"
   ]
  },
  {
   "cell_type": "code",
   "execution_count": 19,
   "metadata": {},
   "outputs": [],
   "source": [
    "# matched_names.to_excel(os.path.join(folder, '22_02_2021_names_file_number_score_partial_token_set.xlsx'))"
   ]
  },
  {
   "cell_type": "code",
   "execution_count": 21,
   "metadata": {},
   "outputs": [
    {
     "data": {
      "text/plain": [
       "677"
      ]
     },
     "execution_count": 21,
     "metadata": {},
     "output_type": "execute_result"
    }
   ],
   "source": [
    "sum(matched_names['comparison']==True)"
   ]
  },
  {
   "cell_type": "code",
   "execution_count": 22,
   "metadata": {},
   "outputs": [
    {
     "data": {
      "text/plain": [
       "85"
      ]
     },
     "execution_count": 22,
     "metadata": {},
     "output_type": "execute_result"
    }
   ],
   "source": [
    "sum(matched_names['comparison']==False)"
   ]
  }
 ],
 "metadata": {
  "kernelspec": {
   "display_name": "Python 3",
   "language": "python",
   "name": "python3"
  },
  "language_info": {
   "codemirror_mode": {
    "name": "ipython",
    "version": 3
   },
   "file_extension": ".py",
   "mimetype": "text/x-python",
   "name": "python",
   "nbconvert_exporter": "python",
   "pygments_lexer": "ipython3",
   "version": "3.8.5"
  }
 },
 "nbformat": 4,
 "nbformat_minor": 1
}
