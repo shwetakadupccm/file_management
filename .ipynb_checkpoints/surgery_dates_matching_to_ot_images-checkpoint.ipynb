{
 "cells": [
  {
   "cell_type": "code",
   "execution_count": null,
   "metadata": {
    "collapsed": true,
    "pycharm": {
     "is_executing": true
    }
   },
   "outputs": [],
   "source": [
    "import pandas as pd\n",
    "import os\n",
    "from fuzzywuzzy import process\n",
    "import datetime\n",
    "import dateparser\n",
    "import re"
   ]
  },
  {
   "cell_type": "code",
   "execution_count": null,
   "metadata": {},
   "outputs": [],
   "source": [
    "def find_date(sx_df, dt_str = 'Sx Date'):\n",
    "    dts = []\n",
    "    for sx_dt in sx_df[dt_str]:\n",
    "        match = re.search('\\d{4}-\\d{2}-\\d{2}', str(sx_dt))\n",
    "        if match is not None:\n",
    "            dt = datetime.datetime.strptime(match.group(), '%Y-%m-%d').date()\n",
    "            dts.append(str(dt))\n",
    "        else:\n",
    "            dts.append(sx_dt)\n",
    "    return dts"
   ]
  },
  {
   "cell_type": "code",
   "execution_count": null,
   "metadata": {},
   "outputs": [],
   "source": [
    "def convert_all_dates_into_one_format(dates):\n",
    "    dts = []\n",
    "    for date in dates:\n",
    "        dt_find = dateparser.parse(str(date))\n",
    "        match = re.search('\\d{4}-\\d{2}-\\d{2}', str(dt_find))\n",
    "        if match is not None:\n",
    "            dts.append(match[0])\n",
    "        else:\n",
    "            dts.append(date)\n",
    "    return dts"
   ]
  },
  {
   "cell_type": "code",
   "execution_count": null,
   "metadata": {},
   "outputs": [],
   "source": [
    "def match_the_dates(path, sx_df, sx_images_dts, dt_str = 'Sx Date', sx_name_str = 'Name '):\n",
    "    sx_dates = find_date(sx_df, dt_str)\n",
    "    all_dates = convert_all_dates_into_one_format(sx_dates)\n",
    "    sx_df['cleaned_sx_dates'] = all_dates\n",
    "    for sx_image_dt in sx_images_dts:\n",
    "        matched_dates = process.extractBests(query=sx_image_dt, choices=all_dates, score_cutoff=100)\n",
    "        print(matched_dates) \n",
    "        if matched_dates is not None:\n",
    "            dt_gr = sx_df.groupby('cleaned_sx_dates')\n",
    "            if len(matched_dates) == 1:\n",
    "                matched_dt_gr = dt_gr.get_group(matched_dates[0][0])\n",
    "                names = matched_dt_gr[sx_name_str]\n",
    "                new_name = sx_image_dt + '_' + names.iloc[0]\n",
    "                source = os.path.join(path, sx_image_dt)\n",
    "                destination = os.path.join(path, new_name)\n",
    "                os.rename(source, destination)\n",
    "            if len(matched_dates) == 2:\n",
    "                matched_dt_gr = dt_gr.get_group(matched_dates[0][0])\n",
    "                names = matched_dt_gr[sx_name_str]\n",
    "                new_name = sx_image_dt + '_' + names.iloc[0] + '_' + names.iloc[1]\n",
    "                source = os.path.join(path, sx_image_dt)\n",
    "                destination = os.path.join(path, new_name)\n",
    "                os.rename(source, destination)\n",
    "            if len(matched_dates) == 3:\n",
    "                matched_dt_gr = dt_gr.get_group(matched_dates[0][0])\n",
    "                names = matched_dt_gr[sx_name_str]\n",
    "                new_name = sx_image_dt + '_' + names.iloc[0] + '_' + names.iloc[1] + '_' + names.iloc[2]\n",
    "                source = os.path.join(path, sx_image_dt)\n",
    "                destination = os.path.join(path, new_name)\n",
    "                os.rename(source, destination)\n",
    "            if len(matched_dates) == 4:\n",
    "                matched_dt_gr = dt_gr.get_group(matched_dates[0][0])\n",
    "                names = matched_dt_gr[sx_name_str]\n",
    "                new_name = sx_image_dt + '_' + names.iloc[0] + '_' + names.iloc[1] + '_' + names.iloc[2] + '_' + names.iloc[3]\n",
    "                source = os.path.join(path, sx_image_dt)\n",
    "                destination = os.path.join(path, new_name)\n",
    "                os.rename(source, destination)"
   ]
  },
  {
   "cell_type": "code",
   "execution_count": null,
   "metadata": {},
   "outputs": [],
   "source": [
    "sx_data = pd.read_excel('D:\\\\Shweta\\\\Surgery\\\\surgery_list.xlsx')\n",
    "sx_images_dt = os.listdir('D:\\\\Shweta\\\\Surgery\\\\Date_Wise_Files\\\\')\n",
    "matched_dates_and_names = match_the_dates('D:\\\\Shweta\\\\Surgery\\\\Date_Wise_Files\\\\', sx_data, sx_images_dt, dt_str = 'Sx Date', sx_name_str = 'Name ')"
   ]
  }
 ],
 "metadata": {
  "kernelspec": {
   "display_name": "Python 3",
   "language": "python",
   "name": "python3"
  },
  "language_info": {
   "codemirror_mode": {
    "name": "ipython",
    "version": 3
   },
   "file_extension": ".py",
   "mimetype": "text/x-python",
   "name": "python",
   "nbconvert_exporter": "python",
   "pygments_lexer": "ipython3",
   "version": "3.8.5"
  }
 },
 "nbformat": 4,
 "nbformat_minor": 1
}
